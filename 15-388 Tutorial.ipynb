{
 "cells": [
  {
   "cell_type": "markdown",
   "metadata": {},
   "source": [
    "# K-Means Clustering in Sports Analytics "
   ]
  },
  {
   "cell_type": "markdown",
   "metadata": {},
   "source": [
    "## Introduction"
   ]
  },
  {
   "cell_type": "markdown",
   "metadata": {},
   "source": [
    "This tutorial will teach you how to perform K-Means clustering analysis in the field of Sports Analytics!\n"
   ]
  },
  {
   "cell_type": "markdown",
   "metadata": {},
   "source": [
    "### What is Clustering?"
   ]
  },
  {
   "cell_type": "markdown",
   "metadata": {},
   "source": [
    "Clustering is a form of **Unsupervised Learning**, a machine learning algorithm technique machine that works to label and classify raw data. This is in contrast to Supervised Learning algorithms, which most likely uses \"cleaner\" data with labels, classifications, and categories.\n",
    "\n",
    "An example of **Supervised Learning** would be the following:\n",
    "\n",
    "* Predicting a student's numeric grade on a midterm exam with variables of each student's hours of sleep, GPA, and hours of preparation.\n",
    "\n",
    "An example of **Unsupervised Learning** would be the following:\n",
    "\n",
    "* Finding a subgroup of an artist's songs based on their regional popularity.\n",
    "\n",
    "In this tutorial, we will be diving into the applications of a certain clustering algorithm, **K-Means Clustering**."
   ]
  },
  {
   "cell_type": "markdown",
   "metadata": {},
   "source": [
    "### What is K-Means Clustering?"
   ]
  },
  {
   "cell_type": "markdown",
   "metadata": {},
   "source": [
    "K-Means clustering is a clustering algorithm that serves to **branch a dataset of n observations into k clusters**, where each observation is **placed into the cluster with the nearest mean in respect to d dimensions**.\n",
    "\n",
    "First, you choose an arbitrary k amount of observations from the dataset as centroids.\n",
    "\n",
    "Then, you iterate through all the observations in the dataset, assigning each observation to a cluster and reassigning centroid points as necessary to minimize variances between datapoints in a cluster.\n",
    "\n",
    "Your final result of applying the algorithm should be a dataset split into k clusters where the sum of the distance between observations in a centroid is minimized.\n"
   ]
  },
  {
   "cell_type": "markdown",
   "metadata": {},
   "source": [
    "### Clustering in Sports Analytics"
   ]
  },
  {
   "cell_type": "markdown",
   "metadata": {},
   "source": [
    "The digital age has brought upon a stunning change in professional sports organizations; teams are relying more and more on data driven decisions and research scientists to help make winning plays on the field. \n",
    "\n",
    "Thus, as databases and the overall datasets in the world of sports are rather new and \"raw\", the methods of Unsupervised Learning come into play. Clustering and other methods of Unsupervised Learning are optimized in situations and datasets with much to be learned, leaving sports analytics an ideal playground for these methods.\n",
    "\n",
    "In this tutorial, we will explore clustering similiar types of players and teams!"
   ]
  },
  {
   "cell_type": "markdown",
   "metadata": {},
   "source": [
    "## Datasets and Libraries"
   ]
  },
  {
   "cell_type": "markdown",
   "metadata": {},
   "source": [
    "For this tutorial, we will use the following libraries."
   ]
  },
  {
   "cell_type": "code",
   "execution_count": null,
   "metadata": {},
   "outputs": [],
   "source": [
    "from sklearn.cluster import KMeans\n",
    "from sklearn.preprocessing import StandardScaler\n",
    "from sklearn.decomposition import PCA\n",
    "import numpy as np\n",
    "import pandas as pd\n",
    "import math\n",
    "import requests\n",
    "%matplotlib inline\n",
    "import matplotlib.pyplot as plt\n",
    "from nba_api.stats.endpoints import commonplayerinfo as commonInfo\n",
    "from nba_api.stats.endpoints import leaguedashplayerstats as playerStats\n",
    "from nba_api.stats.static import teams"
   ]
  },
  {
   "cell_type": "markdown",
   "metadata": {},
   "source": [
    "We will acquire our first dataset from an NBA API package, which accesses game, player, and team data from NBA.com. We install the package with the following command."
   ]
  },
  {
   "cell_type": "code",
   "execution_count": null,
   "metadata": {},
   "outputs": [],
   "source": [
    "import sys\n",
    "!{sys.executable} -m pip install nba-api"
   ]
  },
  {
   "cell_type": "markdown",
   "metadata": {},
   "source": [
    "## Clustering with NBA Data"
   ]
  },
  {
   "cell_type": "markdown",
   "metadata": {},
   "source": [
    "### Getting NBA Player Data"
   ]
  },
  {
   "cell_type": "markdown",
   "metadata": {},
   "source": [
    "For my first clustering analysis, I want to try grouping similiar types of NBA players together! In order to continue with this, I want to get a dataframe with all the NBA players in a season with their respective stats. In the following chunk, I request all the data for every player in the 2018-2019 NBA season and convert it to a dataframe."
   ]
  },
  {
   "cell_type": "code",
   "execution_count": 297,
   "metadata": {},
   "outputs": [
    {
     "name": "stdout",
     "output_type": "stream",
     "text": [
      "     PLAYER_ID      PLAYER_NAME     TEAM_ID TEAM_ABBREVIATION   AGE  GP   W  \\\n",
      "0       203932     Aaron Gordon  1610612753               ORL  23.0  78  40   \n",
      "1      1628988    Aaron Holiday  1610612754               IND  22.0  50  31   \n",
      "2      1627846      Abdel Nader  1610612760               OKC  25.0  61  38   \n",
      "3       201143       Al Horford  1610612738               BOS  33.0  68  41   \n",
      "4       202329  Al-Farouq Aminu  1610612757               POR  28.0  81  52   \n",
      "..         ...              ...         ...               ...   ...  ..  ..   \n",
      "525     203897      Zach LaVine  1610612741               CHI  24.0  63  16   \n",
      "526    1629155      Zach Lofton  1610612765               DET  26.0   1   1   \n",
      "527       2585    Zaza Pachulia  1610612765               DET  35.0  68  35   \n",
      "528    1629015     Zhaire Smith  1610612755               PHI  20.0   6   2   \n",
      "529    1627753          Zhou Qi  1610612745               HOU  23.0   1   0   \n",
      "\n",
      "      L  W_PCT          MIN  ...  BLKA_RANK  PF_RANK  PFD_RANK  PTS_RANK  \\\n",
      "0    38  0.513  2632.533333  ...        471      439        39        52   \n",
      "1    19  0.620   645.830000  ...        218      210       283       302   \n",
      "2    23  0.623   693.656667  ...        172      203       351       324   \n",
      "3    27  0.603  1972.683333  ...        353      343       154        97   \n",
      "4    29  0.642  2291.698333  ...        353      382       128       133   \n",
      "..   ..    ...          ...  ...        ...      ...       ...       ...   \n",
      "525  47  0.254  2170.855000  ...        526      372        40        30   \n",
      "526   0  1.000     3.750000  ...          1        1       513       521   \n",
      "527  33  0.515   878.165000  ...        262      400       134       316   \n",
      "528   4  0.333   110.616667  ...         91       62       464       447   \n",
      "529   1  0.000     0.955000  ...          1        1       513       514   \n",
      "\n",
      "     PLUS_MINUS_RANK  NBA_FANTASY_PTS_RANK  DD2_RANK  TD3_RANK  CFID  \\\n",
      "0                 91                    43        34        38     5   \n",
      "1                 97                   324       261        38     5   \n",
      "2                464                   344       261        38     5   \n",
      "3                 37                    64        70        16     5   \n",
      "4                 17                    95        60        38     5   \n",
      "..               ...                   ...       ...       ...   ...   \n",
      "525              512                    54       159        38     5   \n",
      "526              226                   523       261        38     5   \n",
      "527              424                   281       261        38     5   \n",
      "528              183                   456       261        38     5   \n",
      "529              239                   523       261        38     5   \n",
      "\n",
      "               CFPARAMS  \n",
      "0     203932,1610612753  \n",
      "1    1628988,1610612754  \n",
      "2    1627846,1610612760  \n",
      "3     201143,1610612738  \n",
      "4     202329,1610612757  \n",
      "..                  ...  \n",
      "525   203897,1610612741  \n",
      "526  1629155,1610612765  \n",
      "527     2585,1610612765  \n",
      "528  1629015,1610612755  \n",
      "529  1627753,1610612745  \n",
      "\n",
      "[530 rows x 65 columns]\n"
     ]
    }
   ],
   "source": [
    "player_stats = playerStats.LeagueDashPlayerStats(season='2018-19')\n",
    "df = player_stats.get_data_frames()[0]\n",
    "print(df)"
   ]
  },
  {
   "cell_type": "markdown",
   "metadata": {},
   "source": [
    "Now that we have our raw dataframe, we want to clean the data so we work with relevant players and statistics. In the following chunk, I first filter for \"box statistics\", the most traditionally important statistics of an NBA player. After filtering for box statistics, I require that every player in the dataframe has played the statistical minimumal amount of games to qualify for NBA League Leaders. By doing so, I make sure there are no outliers in the data that will skew our analysis."
   ]
  },
  {
   "cell_type": "code",
   "execution_count": null,
   "metadata": {},
   "outputs": [],
   "source": [
    "traditionalDf = df[[\"PLAYER_ID\", \"PLAYER_NAME\", \"GP\", \"AGE\", \"FGM\", \"FGA\", \"FG3M\", \"FG_PCT\",\n",
    "         \"FG3A\", \"FG3_PCT\", \"FTM\", \"FTA\", \"FT_PCT\", \"REB\", \"AST\", \"TOV\", \"STL\", \"BLK\", \"PTS\",\n",
    "                   \"NBA_FANTASY_PTS\", \"PLUS_MINUS_RANK\"] ]\n",
    "finalDisplay = df[[\"PLAYER_ID\", \"PLAYER_NAME\",\"PTS\",\n",
    "                   \"NBA_FANTASY_PTS_RANK\", \"PLUS_MINUS_RANK\", \"GP\"] ]\n",
    "qualified = traditionalDf[traditionalDf[\"GP\"] >=  58]\n",
    "finalDisplay = finalDisplay[finalDisplay[\"GP\"] >= 58]\n",
    "qualified = pd.DataFrame(qualified)\n",
    "finalDisplay = pd.DataFrame(finalDisplay)\n",
    "    "
   ]
  },
  {
   "cell_type": "markdown",
   "metadata": {},
   "source": [
    "Now that we have our desired dataset, we proceed with our K-Means clustering algorithm."
   ]
  },
  {
   "cell_type": "markdown",
   "metadata": {},
   "source": [
    "### Using PCA to Transform Data"
   ]
  },
  {
   "cell_type": "code",
   "execution_count": null,
   "metadata": {},
   "outputs": [],
   "source": [
    "scaler = StandardScaler()\n",
    "pca = PCA()\n",
    "numeric = qualified[[\"FG3M\",\n",
    "         \"FG3_PCT\", \"REB\", \"AST\", \"BLK\", \"PTS\",\n",
    "                    \"NBA_FANTASY_PTS\", \"PLUS_MINUS_RANK\"] ]\n",
    "standardized = scaler.fit_transform(numeric)\n",
    "analyzed = pca.fit(standardized)\n",
    "ratios = analyzed.explained_variance_ratio_\n",
    "x = []\n",
    "for i in range(len(ratios)):\n",
    "    x.append(i)\n",
    "cumsums = []\n",
    "count = 0\n",
    "for i in range(len(ratios)):\n",
    "    count += ratios[i]\n",
    "    cumsums.append(count)\n",
    "total = 0\n",
    "components = 0\n",
    "for i in range(len(ratios)):\n",
    "    total += ratios[i]\n",
    "    if total > .90:\n",
    "        components = i\n",
    "        break\n",
    "plt.plot(x, cumsums, 'o', color='black')\n",
    "plt.plot(x, cumsums)"
   ]
  },
  {
   "cell_type": "markdown",
   "metadata": {},
   "source": [
    "### K-Means Algorithm"
   ]
  },
  {
   "cell_type": "code",
   "execution_count": 219,
   "metadata": {},
   "outputs": [
    {
     "data": {
      "text/plain": [
       "[<matplotlib.lines.Line2D at 0x7fb1164ba610>]"
      ]
     },
     "execution_count": 219,
     "metadata": {},
     "output_type": "execute_result"
    },
    {
     "data": {
      "image/png": "[encoded data removed]",
      "text/plain": [
       "<Figure size 432x288 with 1 Axes>"
      ]
     },
     "metadata": {
      "needs_background": "light"
     },
     "output_type": "display_data"
    }
   ],
   "source": [
    "newPCA = PCA(n_components = components)\n",
    "newPCA.fit(standardized)\n",
    "transformPCA = newPCA.transform(standardized)\n",
    "inertia = []\n",
    "for i in range(1, 7):\n",
    "    kmeans = KMeans(n_clusters= i)\n",
    "    kmeans.fit(transformPCA)\n",
    "    inertia += [kmeans.inertia_]\n",
    "x = []\n",
    "for i in range(len(inertia)):\n",
    "    x.append(i)\n",
    "plt.plot(x, inertia, 'o', color='black')\n",
    "plt.plot(x, inertia)"
   ]
  },
  {
   "cell_type": "code",
   "execution_count": 288,
   "metadata": {},
   "outputs": [],
   "source": [
    "final = KMeans(n_clusters = 3)\n",
    "final.fit(transformPCA)\n",
    "final.labels_\n",
    "finalDisplay[\"cluster\"] = final.labels_\n",
    "\n"
   ]
  },
  {
   "cell_type": "code",
   "execution_count": 348,
   "metadata": {},
   "outputs": [
    {
     "name": "stdout",
     "output_type": "stream",
     "text": [
      "     PLAYER_ID        PLAYER_NAME   PTS  NBA_FANTASY_PTS_RANK  \\\n",
      "225     201935       James Harden  2818                     1   \n",
      "433     201566  Russell Westbrook  1675                     3   \n",
      "407     202331        Paul George  2159                     4   \n",
      "388     203999       Nikola Jokic  1604                     5   \n",
      "45      203078       Bradley Beal  2099                     9   \n",
      "..         ...                ...   ...                   ...   \n",
      "93      201980        Danny Green   821                   125   \n",
      "159     201569        Eric Gordon  1103                   142   \n",
      "53     1627854        Bryn Forbes   967                   143   \n",
      "168    1627832      Fred VanVleet   701                   149   \n",
      "405     201988        Patty Mills   811                   153   \n",
      "\n",
      "     PLUS_MINUS_RANK  GP  cluster  \n",
      "225               22  78        0  \n",
      "433               36  73        0  \n",
      "407               10  77        0  \n",
      "388               29  80        0  \n",
      "45               439  82        0  \n",
      "..               ...  ..      ...  \n",
      "93                 4  80        0  \n",
      "159               26  68        0  \n",
      "53               259  82        0  \n",
      "168               35  64        0  \n",
      "405               52  82        0  \n",
      "\n",
      "[86 rows x 7 columns]\n"
     ]
    }
   ],
   "source": [
    "finalPlayers = finalDisplay.sort_values(by='NBA_FANTASY_PTS_RANK', ascending=True)\n",
    "print(finalPlayers[finalPlayers[\"cluster\"] == 0])"
   ]
  },
  {
   "cell_type": "markdown",
   "metadata": {},
   "source": [
    "### Clustering Teams"
   ]
  },
  {
   "cell_type": "code",
   "execution_count": 327,
   "metadata": {},
   "outputs": [
    {
     "name": "stdout",
     "output_type": "stream",
     "text": [
      "TEAM_ID\n",
      "TEAM_NAME\n",
      "GP\n",
      "W\n",
      "L\n",
      "W_PCT\n",
      "MIN\n",
      "FGM\n",
      "FGA\n",
      "FG_PCT\n",
      "FG3M\n",
      "FG3A\n",
      "FG3_PCT\n",
      "FTM\n",
      "FTA\n",
      "FT_PCT\n",
      "OREB\n",
      "DREB\n",
      "REB\n",
      "AST\n",
      "TOV\n",
      "STL\n",
      "BLK\n",
      "BLKA\n",
      "PF\n",
      "PFD\n",
      "PTS\n",
      "PLUS_MINUS\n",
      "GP_RANK\n",
      "W_RANK\n",
      "L_RANK\n",
      "W_PCT_RANK\n",
      "MIN_RANK\n",
      "FGM_RANK\n",
      "FGA_RANK\n",
      "FG_PCT_RANK\n",
      "FG3M_RANK\n",
      "FG3A_RANK\n",
      "FG3_PCT_RANK\n",
      "FTM_RANK\n",
      "FTA_RANK\n",
      "FT_PCT_RANK\n",
      "OREB_RANK\n",
      "DREB_RANK\n",
      "REB_RANK\n",
      "AST_RANK\n",
      "TOV_RANK\n",
      "STL_RANK\n",
      "BLK_RANK\n",
      "BLKA_RANK\n",
      "PF_RANK\n",
      "PFD_RANK\n",
      "PTS_RANK\n",
      "PLUS_MINUS_RANK\n",
      "CFID\n",
      "CFPARAMS\n"
     ]
    }
   ],
   "source": [
    "from nba_api.stats.endpoints import leaguedashteamstats\n",
    "allGames = leaguedashteamstats.LeagueDashTeamStats(season='2018-19')\n",
    "teams = allGames.get_data_frames()[0]\n",
    "for row in teams:\n",
    "    print(row)\n",
    "finalTeams = teams[[\"TEAM_ID\", \"TEAM_NAME\", \"W_PCT\", \"FG_PCT\", \"FG3A\", \"FG3_PCT\", \"FTA\", \"TOV\", \"PLUS_MINUS\"]]\n",
    "finalTeams = pd.DataFrame(finalTeams)\n",
    "selected = teams[[\"FG_PCT\", \"FG3A\", \"FG3_PCT\", \"FTA\", \"TOV\", \"PLUS_MINUS\"]]"
   ]
  },
  {
   "cell_type": "code",
   "execution_count": 315,
   "metadata": {},
   "outputs": [
    {
     "data": {
      "text/plain": [
       "[<matplotlib.lines.Line2D at 0x7fb116d773d0>]"
      ]
     },
     "execution_count": 315,
     "metadata": {},
     "output_type": "execute_result"
    },
    {
     "data": {
      "image/png": "[encoded data removed]",
      "text/plain": [
       "<Figure size 432x288 with 1 Axes>"
      ]
     },
     "metadata": {
      "needs_background": "light"
     },
     "output_type": "display_data"
    }
   ],
   "source": [
    "standardizedTeam = scaler.fit_transform(selected)\n",
    "analyzedTeam = pca.fit(standardizedTeam)\n",
    "ratiosTeam = analyzedTeam.explained_variance_ratio_\n",
    "xTeam = []\n",
    "for i in range(len(ratiosTeam)):\n",
    "    xTeam.append(i)\n",
    "cumsumsTeam = []\n",
    "countTeam = 0\n",
    "for i in range(len(ratiosTeam)):\n",
    "    countTeam += ratiosTeam[i]\n",
    "    cumsumsTeam.append(countTeam)\n",
    "totalTeam = 0\n",
    "componentsTeam = 0\n",
    "for i in range(len(ratiosTeam)):\n",
    "    totalTeam += ratiosTeam[i]\n",
    "    if totalTeam > .90:\n",
    "        componentsTeam = i\n",
    "        break\n",
    "plt.plot(xTeam, cumsumsTeam, 'o', color='black')\n",
    "plt.plot(xTeam, cumsumsTeam)"
   ]
  },
  {
   "cell_type": "code",
   "execution_count": 317,
   "metadata": {},
   "outputs": [
    {
     "data": {
      "text/plain": [
       "[<matplotlib.lines.Line2D at 0x7fb11625bbe0>]"
      ]
     },
     "execution_count": 317,
     "metadata": {},
     "output_type": "execute_result"
    },
    {
     "data": {
      "image/png": "[encoded data removed]",
      "text/plain": [
       "<Figure size 432x288 with 1 Axes>"
      ]
     },
     "metadata": {
      "needs_background": "light"
     },
     "output_type": "display_data"
    }
   ],
   "source": [
    "newPCATeam = PCA(n_components = componentsTeam)\n",
    "newPCATeam.fit(standardizedTeam)\n",
    "\n",
    "transformPCATeam = newPCATeam.transform(standardizedTeam)\n",
    "inertiaTeam = []\n",
    "for i in range(1, 6):\n",
    "    kmeansTeam = KMeans(n_clusters= i)\n",
    "    kmeansTeam.fit(transformPCATeam)\n",
    "    inertiaTeam += [kmeansTeam.inertia_]\n",
    "xTeam = []\n",
    "for i in range(len(inertiaTeam)):\n",
    "    xTeam.append(i)\n",
    "plt.plot(xTeam, inertiaTeam, 'o', color='black')\n",
    "plt.plot(xTeam, inertiaTeam)"
   ]
  },
  {
   "cell_type": "code",
   "execution_count": 335,
   "metadata": {},
   "outputs": [
    {
     "data": {
      "text/plain": [
       "array([1, 0, 1, 1, 1, 1, 1, 0, 1, 0, 1, 0, 0, 1, 1, 1, 0, 1, 1, 1, 1, 1,\n",
       "       0, 1, 0, 0, 0, 0, 0, 1], dtype=int32)"
      ]
     },
     "execution_count": 335,
     "metadata": {},
     "output_type": "execute_result"
    }
   ],
   "source": [
    "finalTeam = KMeans(n_clusters = 2)\n",
    "finalTeam.fit(transformPCATeam)\n",
    "finalTeam.labels_"
   ]
  },
  {
   "cell_type": "code",
   "execution_count": 342,
   "metadata": {},
   "outputs": [
    {
     "name": "stdout",
     "output_type": "stream",
     "text": [
      "       TEAM_ID               TEAM_NAME  W_PCT  FG_PCT  FG3A  FG3_PCT   FTA  \\\n",
      "16  1610612749         Milwaukee Bucks  0.732   0.476  3134    0.353  1904   \n",
      "27  1610612761         Toronto Raptors  0.707   0.474  2771    0.366  1803   \n",
      "9   1610612744   Golden State Warriors  0.695   0.491  2824    0.385  1672   \n",
      "7   1610612743          Denver Nuggets  0.659   0.466  2571    0.351  1714   \n",
      "24  1610612757  Portland Trail Blazers  0.646   0.467  2520    0.359  1914   \n",
      "22  1610612755      Philadelphia 76ers  0.622   0.471  2474    0.359  2258   \n",
      "28  1610612762               Utah Jazz  0.610   0.468  2789    0.356  2092   \n",
      "1   1610612738          Boston Celtics  0.598   0.465  2829    0.365  1598   \n",
      "12  1610612746             LA Clippers  0.585   0.471  2118    0.388  2340   \n",
      "11  1610612754          Indiana Pacers  0.585   0.475  2081    0.374  1727   \n",
      "26  1610612759       San Antonio Spurs  0.585   0.478  2071    0.392  1720   \n",
      "25  1610612758        Sacramento Kings  0.476   0.464  2455    0.378  1865   \n",
      "\n",
      "       TOV  PLUS_MINUS  cluster  \n",
      "16  1137.0       727.0        0  \n",
      "27  1150.0       499.0        0  \n",
      "9   1169.0       530.0        0  \n",
      "7   1102.0       324.0        0  \n",
      "24  1135.0       344.0        0  \n",
      "22  1223.0       221.0        0  \n",
      "28  1240.0       431.0        0  \n",
      "1   1052.0       364.0        0  \n",
      "12  1193.0        70.0        0  \n",
      "11  1122.0       273.0        0  \n",
      "26   992.0       138.0        0  \n",
      "25  1095.0       -92.0        0  \n"
     ]
    }
   ],
   "source": [
    "finalTeams[\"cluster\"] = finalTeam.labels_\n",
    "sortedFinal = finalTeams.sort_values(by = ['W_PCT'], ascending = False)\n",
    "print(sortedFinal[sortedFinal[\"cluster\"] == 0])"
   ]
  }
 ],
 "metadata": {
  "kernelspec": {
   "display_name": "Python 3",
   "language": "python",
   "name": "python3"
  },
  "language_info": {
   "codemirror_mode": {
    "name": "ipython",
    "version": 3
   },
   "file_extension": ".py",
   "mimetype": "text/x-python",
   "name": "python",
   "nbconvert_exporter": "python",
   "pygments_lexer": "ipython3",
   "version": "3.8.5"
  }
 },
 "nbformat": 4,
 "nbformat_minor": 4
}
